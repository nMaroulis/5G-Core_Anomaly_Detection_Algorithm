{
 "cells": [
  {
   "cell_type": "markdown",
   "metadata": {
    "id": "JOIPrCRUpqkS"
   },
   "source": [
    "# <font color=#323232>5Growth Anomaly Detection Algorithm</font>\n",
    ">  1. ### <font color=#333333>Data | Libraries | Feature Extraction</font>\n",
    "   * ##### <font color=#404040> Data Preprocessing</font>\n",
    " - ### <font color=#333333>Clustering</font>\n",
    "  * ##### <font color=#404040>HDBSCAN Visualisation</font>\n",
    "  * ##### <font color=#404040>Cluster Visualisation</font>\n",
    " - ### <font color=#333333>Classification</font>\n",
    "  * ##### <font color=#404040>Deep Neural Network | Tensorflow2.0</font>"
   ]
  },
  {
   "cell_type": "markdown",
   "metadata": {
    "id": "hNg2SMgCpqkT"
   },
   "source": [
    "##  <font color=coral> Data | Libraries | Feature Extraction </font>"
   ]
  },
  {
   "cell_type": "code",
   "execution_count": 21,
   "metadata": {},
   "outputs": [
    {
     "data": {
      "text/html": [
       "<style>.container { width:100% !important; }</style>"
      ],
      "text/plain": [
       "<IPython.core.display.HTML object>"
      ]
     },
     "metadata": {},
     "output_type": "display_data"
    }
   ],
   "source": [
    "from IPython.core.display import display, HTML\n",
    "display(HTML(\"<style>.container { width:100% !important; }</style>\"))"
   ]
  },
  {
   "cell_type": "code",
   "execution_count": 124,
   "metadata": {
    "colab": {
     "base_uri": "https://localhost:8080/",
     "height": 459
    },
    "executionInfo": {
     "elapsed": 202,
     "status": "error",
     "timestamp": 1621949951834,
     "user": {
      "displayName": "Nikos Marοulis",
      "photoUrl": "https://lh3.googleusercontent.com/a-/AOh14Gg-MZSaNZpv2rRSyDZK0284LZjMlytkj7o2mmYQEw=s64",
      "userId": "11343116519793443171"
     },
     "user_tz": -180
    },
    "id": "FgIGaKdzpqkU",
    "outputId": "0b226be6-5d65-4b88-ad0a-a28715e55049"
   },
   "outputs": [],
   "source": [
    "import pandas as pd\n",
    "import numpy as np\n",
    "import matplotlib\n",
    "import matplotlib.pyplot as plt\n",
    "import seaborn as sns\n",
    "import matplotlib.cm as cm\n",
    "import matplotlib.pyplot as plt\n",
    "from sklearn.ensemble import IsolationForest, RandomForestClassifier\n",
    "from sklearn.decomposition import PCA\n",
    "from sklearn.cluster import KMeans\n",
    "from sklearn.preprocessing import MinMaxScaler, StandardScaler, normalize, LabelEncoder\n",
    "from sklearn.manifold import TSNE\n",
    "from sklearn.cluster import DBSCAN\n",
    "from collections import Counter\n",
    "from sklearn.metrics import silhouette_samples, silhouette_score\n",
    "from sklearn import tree\n",
    "import os\n",
    "import tensorflow as tf\n",
    "from sklearn.exceptions import DataConversionWarning\n",
    "from joblib import dump, load\n",
    "from datetime import datetime\n",
    "import hdbscan\n",
    "from termcolor import colored\n",
    "from tensorflow.keras.models import Sequential\n",
    "from tensorflow.keras.layers import Dense"
   ]
  },
  {
   "cell_type": "code",
   "execution_count": 27,
   "metadata": {},
   "outputs": [],
   "source": [
    "data_simulation_1 = pd.read_csv(\"0. Input Data/Simulation_Data_1.csv\")\n",
    "data_simulation_2 = pd.read_csv(\"0. Input Data/Simulation_Data_2.csv\")"
   ]
  },
  {
   "cell_type": "markdown",
   "metadata": {},
   "source": [
    "##  <font color=coral> Analyze Anomalies in the Dataset </font>"
   ]
  },
  {
   "cell_type": "code",
   "execution_count": 28,
   "metadata": {
    "id": "Wqocl2UKpqkf"
   },
   "outputs": [
    {
     "name": "stdout",
     "output_type": "stream",
     "text": [
      "In the time window of \u001b[32m[60 - 120]\u001b[0m the \u001b[32mnon spamming\u001b[0m  devices are: 24\n",
      "In the time window of \u001b[31m[60 - 120]\u001b[0m the \u001b[31mspamming\u001b[0m  devices are: 6\n",
      "In the time window of \u001b[32m[120 - 180]\u001b[0m the \u001b[32mnon spamming\u001b[0m  devices are: 22\n",
      "In the time window of \u001b[31m[120 - 180]\u001b[0m the \u001b[31mspamming\u001b[0m  devices are: 8\n",
      "In the time window of \u001b[32m[180 - 240]\u001b[0m the \u001b[32mnon spamming\u001b[0m  devices are: 23\n",
      "In the time window of \u001b[31m[180 - 240]\u001b[0m the \u001b[31mspamming\u001b[0m  devices are: 7\n",
      "In the time window of \u001b[32m[240 - 300]\u001b[0m the \u001b[32mnon spamming\u001b[0m  devices are: 21\n",
      "In the time window of \u001b[31m[240 - 300]\u001b[0m the \u001b[31mspamming\u001b[0m  devices are: 9\n",
      "In the time window of \u001b[32m[300 - 360]\u001b[0m the \u001b[32mnon spamming\u001b[0m  devices are: 22\n",
      "In the time window of \u001b[31m[300 - 360]\u001b[0m the \u001b[31mspamming\u001b[0m  devices are: 8\n",
      "In the time window of \u001b[32m[360 - 420]\u001b[0m the \u001b[32mnon spamming\u001b[0m  devices are: 22\n",
      "In the time window of \u001b[31m[360 - 420]\u001b[0m the \u001b[31mspamming\u001b[0m  devices are: 8\n",
      "In the time window of \u001b[31m[420 - 480]\u001b[0m the \u001b[31mspamming\u001b[0m  devices are: 30\n",
      "In the time window of \u001b[32m[480 - 540]\u001b[0m the \u001b[32mnon spamming\u001b[0m  devices are: 30\n",
      "In the time window of \u001b[32m[540 - 600]\u001b[0m the \u001b[32mnon spamming\u001b[0m  devices are: 23\n",
      "In the time window of \u001b[31m[540 - 600]\u001b[0m the \u001b[31mspamming\u001b[0m  devices are: 7\n",
      "-----------------\n",
      "In the time window of \u001b[32m[60 - 120]\u001b[0m the \u001b[32mnon spamming\u001b[0m  devices are: 23\n",
      "In the time window of \u001b[31m[60 - 120]\u001b[0m the \u001b[31mspamming\u001b[0m  devices are: 7\n",
      "In the time window of \u001b[32m[120 - 180]\u001b[0m the \u001b[32mnon spamming\u001b[0m  devices are: 21\n",
      "In the time window of \u001b[31m[120 - 180]\u001b[0m the \u001b[31mspamming\u001b[0m  devices are: 9\n",
      "In the time window of \u001b[32m[180 - 240]\u001b[0m the \u001b[32mnon spamming\u001b[0m  devices are: 22\n",
      "In the time window of \u001b[31m[180 - 240]\u001b[0m the \u001b[31mspamming\u001b[0m  devices are: 8\n",
      "In the time window of \u001b[32m[240 - 300]\u001b[0m the \u001b[32mnon spamming\u001b[0m  devices are: 22\n",
      "In the time window of \u001b[31m[240 - 300]\u001b[0m the \u001b[31mspamming\u001b[0m  devices are: 8\n",
      "In the time window of \u001b[32m[300 - 360]\u001b[0m the \u001b[32mnon spamming\u001b[0m  devices are: 21\n",
      "In the time window of \u001b[31m[300 - 360]\u001b[0m the \u001b[31mspamming\u001b[0m  devices are: 9\n",
      "In the time window of \u001b[32m[360 - 420]\u001b[0m the \u001b[32mnon spamming\u001b[0m  devices are: 22\n",
      "In the time window of \u001b[31m[360 - 420]\u001b[0m the \u001b[31mspamming\u001b[0m  devices are: 8\n",
      "In the time window of \u001b[31m[420 - 480]\u001b[0m the \u001b[31mspamming\u001b[0m  devices are: 30\n",
      "In the time window of \u001b[32m[480 - 540]\u001b[0m the \u001b[32mnon spamming\u001b[0m  devices are: 30\n",
      "In the time window of \u001b[32m[540 - 600]\u001b[0m the \u001b[32mnon spamming\u001b[0m  devices are: 22\n",
      "In the time window of \u001b[31m[540 - 600]\u001b[0m the \u001b[31mspamming\u001b[0m  devices are: 8\n",
      "-----------------\n"
     ]
    }
   ],
   "source": [
    "simTime = 600\n",
    "\n",
    "both_simulations = [data_simulation_1,data_simulation_2]\n",
    "\n",
    "for data in both_simulations:\n",
    "    for k in range(60,simTime,60):\n",
    "        temp = data[(data['time']>k) & (data['time']<=k+1)]['service_type'].value_counts()\n",
    "        for index, value in temp.items():\n",
    "            if(index == 4):\n",
    "                print('In the time window of '+ colored( '['+str(k)+' - '+str(k+60)+']','green') +  ' the ' + colored('non spamming' ,'green') +'  devices are: ' + str(value))\n",
    "            if(index == 5): \n",
    "                print('In the time window of '+ colored( '['+str(k)+' - '+str(k+60)+']','red') + ' the ' + colored('spamming' ,'red') +'  devices are: ' + str(value))\n",
    "    print('-----------------')\n",
    "\n",
    "# print the different KPIs if needed \n",
    "\n",
    "# data = data[data['imsi'] == 1]\n",
    "# fig, axes = plt.subplots(figsize = (35,15),nrows=4, ncols=3)\n",
    "# data.plot(x = 'time',y = 'ul_delay',ax=axes[0,0])\n",
    "# data.plot(x = 'time',y = 'dl_delay',ax=axes[1,0])\n",
    "# data.plot(x = 'time',y = 'lost_packets',ax=axes[2,0])\n",
    "\n",
    "# data.plot(x = 'time',y = 'sum_ultx_ue(bytes)',ax=axes[0,1])\n",
    "# data.plot(x = 'time',y = 'sum_ulrx_cell(bytes)',ax=axes[1,1])\n",
    "\n",
    "# data.plot(x = 'time',y = 'ultx_ue(bytes)',ax=axes[2,1])\n",
    "# data.plot(x = 'time',y = 'ulrx_cell(bytes)',ax=axes[2,2])\n",
    "\n",
    "# data.plot(x = 'time',y = 'sum_dlrx_ue(bytes)',ax=axes[0,2])\n",
    "# data.plot(x = 'time',y = 'sum_dltx_cell(bytes)',ax=axes[1,2])\n",
    "\n",
    "# data.plot(x = 'time',y = 'dlrx_ue(bytes)',ax=axes[3,1])\n",
    "# data.plot(x = 'time',y = 'dltx_cell(bytes)',ax=axes[3,2])"
   ]
  },
  {
   "cell_type": "markdown",
   "metadata": {
    "id": "CzKBTn9PpqkV"
   },
   "source": [
    "### <font color=coral>1. Data Preprocessing and Normalization</font>"
   ]
  },
  {
   "cell_type": "code",
   "execution_count": 72,
   "metadata": {
    "id": "n2XJbiDzpqkV",
    "outputId": "ad2829d9-4811-4e42-adcd-ea1d421a0b8e"
   },
   "outputs": [
    {
     "name": "stdout",
     "output_type": "stream",
     "text": [
      "The \u001b[32mtrainining\u001b[0m data set has the following features:\n",
      "• ul_delay\n",
      "• dl_delay\n",
      "• lost_packets\n",
      "• associated_cellid\n",
      "• rsrp\n",
      "• ulrx_cell(bytes)\n",
      "• transfer_protocol\n"
     ]
    }
   ],
   "source": [
    "train_data = data_simulation_2.copy()\n",
    "test_data = data_simulation_1.copy()\n",
    "\n",
    "train_data= train_data[train_data['imsi'] == 1]\n",
    "train_data = train_data[train_data['service_type'] == 1]\n",
    "# Certain\n",
    "train_data = train_data.drop(columns = ['time','imsi','x','y','velocity','z', 'Simulation_Scenario', 'x.1', 'y.1', 'z.1', 'max_battery', 'battery(mAh)',\n",
    "                                    'battery_status', 'device_status', 'charging_status', 'cellid', 'resource_blocks',\n",
    "                                    'packet_intervalUL(ms)','sum_ultx_ue(bytes)', 'sum_ulrx_cell(packets)',\n",
    "                                    'sum_ultx_ue(packets)', 'sum_dlrx_ue(packets)', 'sum_dlrx_ue(bytes)', 'current_data',\n",
    "                                    'service_type', 'sum_ulrx_cell(bytes)', '#ues', 'txpower(dBm)', 'rsrq', 'cell_type',\n",
    "                                    'packet_sizeUL(bytes)', 'sum_dltx_cell(packets)', 'sum_dltx_cell(bytes)',\n",
    "                                    'packet_intervalDL(ms)', 'ultx_ue(bytes)','packet_sizeDL(bytes)','ultx_ue(packets)', 'dlrx_ue(packets)', \n",
    "                                    'dlrx_ue(bytes)','dltx_cell(packets)','ulrx_cell(packets)', 'dltx_cell(bytes)'])\n",
    "\n",
    "train_data[train_data['lost_packets'] < 0] = 0\n",
    "train_data = train_data.reset_index(drop=True)\n",
    "\n",
    "print(\"The \"  + colored ('trainining','green') +  \" data set has the following features:\")\n",
    "for col in train_data.columns:\n",
    "    print(\"\\u2022 \"+col)\n",
    "\n",
    "feature_size = len(train_data.columns)\n",
    "\n",
    "\"\"\" Transform Data Normalization/Standardization\"\"\"\n",
    "\n",
    "scaler = MinMaxScaler()\n",
    "train_data = pd.DataFrame(scaler.fit_transform(train_data), columns=train_data.columns)"
   ]
  },
  {
   "cell_type": "markdown",
   "metadata": {
    "id": "qBJUIjPvpqka"
   },
   "source": [
    "> ### <font color=coral>2.2 HDBSCAN Clustering</font>"
   ]
  },
  {
   "cell_type": "code",
   "execution_count": 73,
   "metadata": {},
   "outputs": [],
   "source": [
    "def get_unique_numbers(numbers):\n",
    "\n",
    "    list_of_unique_numbers = []\n",
    "    unique_numbers = set(numbers)\n",
    "    for number in unique_numbers:\n",
    "        list_of_unique_numbers.append(number)\n",
    "    return list_of_unique_numbers"
   ]
  },
  {
   "cell_type": "code",
   "execution_count": 76,
   "metadata": {
    "id": "xEexcXCLpqka",
    "outputId": "ec9cb254-2fd4-45c8-be0a-811bd49d777b"
   },
   "outputs": [
    {
     "name": "stdout",
     "output_type": "stream",
     "text": [
      "The number of Clusters generated is :\u001b[32m5\u001b[0m \n",
      "which are: \u001b[32m[0, 1, 2, 3, 4]\u001b[0m\n",
      "\n",
      "\u001b[32mThe trainining data set is now labeled:\u001b[0m\n",
      "• ul_delay\n",
      "• dl_delay\n",
      "• lost_packets\n",
      "• associated_cellid\n",
      "• rsrp\n",
      "• ulrx_cell(bytes)\n",
      "• transfer_protocol\n",
      "• \u001b[31mCluster\u001b[0m\n"
     ]
    }
   ],
   "source": [
    "X = np.asarray(train_data)\n",
    "\n",
    "# train the model\n",
    "hdb_model = hdbscan.RobustSingleLinkage(cut=0.58, k=5)\n",
    "clusters = hdb_model.fit(X)\n",
    "\n",
    "# get the number of clusters generated\n",
    "num_of_generated_clusters = len(get_unique_numbers(hdb_model.labels_))\n",
    "print(\"The number of Clusters generated is :\" + colored (num_of_generated_clusters,'green') + \" \\nwhich are: \" + \n",
    "      colored (str(get_unique_numbers(hdb_model.labels_)),'green') + '\\n')\n",
    "\n",
    "# keep the cluster number in the training data as label\n",
    "train_data_labeled = train_data.copy()\n",
    "train_data_labeled['Cluster'] = pd.DataFrame({'Cluster': hdb_model.labels_})\n",
    "\n",
    "print(colored (\"The trainining data set is now labeled:\",'green'))\n",
    "for col in train_data_labeled.columns:\n",
    "    if(col == 'Cluster'):\n",
    "        print(\"\\u2022 \" + colored (col,'red'))\n",
    "    else:\n",
    "        print(\"\\u2022 \" + col)\n",
    "            "
   ]
  },
  {
   "cell_type": "markdown",
   "metadata": {
    "id": "RQXD0CfTpqka"
   },
   "source": [
    "> ### <font color=coral>2.3 Cluster Visualisation</font>"
   ]
  },
  {
   "cell_type": "code",
   "execution_count": 123,
   "metadata": {
    "id": "mWypCeHvpqka",
    "outputId": "ea333e69-9339-4dcb-99a9-7cb428ec6607"
   },
   "outputs": [
    {
     "data": {
      "image/png": "[encoded data removed]",
      "text/plain": [
       "<Figure size 1123.5x360 with 1 Axes>"
      ]
     },
     "metadata": {
      "needs_background": "light"
     },
     "output_type": "display_data"
    }
   ],
   "source": [
    "vis = train_data_labeled.copy()\n",
    "\n",
    "vis_inversed = scaler.inverse_transform(vis.iloc[:,:-1])\n",
    "vis_inversed = pd.DataFrame(vis_inversed, columns = vis.columns[:-1])\n",
    "vis_inversed['Cluster'] = vis['Cluster']\n",
    "\n",
    "vis_inversed = vis_inversed.reset_index()\n",
    "fg = sns.FacetGrid(data=vis_inversed, hue='Cluster', height=5,aspect=3)\n",
    "fg.map(plt.scatter, 'index', 'lost_packets').add_legend()\n",
    "plt.show()"
   ]
  },
  {
   "cell_type": "markdown",
   "metadata": {
    "id": "7vmncgqBpqkc"
   },
   "source": [
    "## <font color=ForestGreen>4. Classification</font>"
   ]
  },
  {
   "cell_type": "markdown",
   "metadata": {
    "id": "_8vCcY-Rpqkd"
   },
   "source": [
    "> ### <font color=Coral>4.1 Deep Neural Network Training Phase </font>"
   ]
  },
  {
   "cell_type": "code",
   "execution_count": 133,
   "metadata": {
    "id": "Htd0VTsNpqkd"
   },
   "outputs": [],
   "source": [
    "EPOCHS = 10\n",
    "SAMPLE_THRESHOLD = 100\n",
    "VALIDATION_SPLIT = 0.25\n",
    "BATCH_SIZE = 32\n",
    "VERBOSE = 2\n",
    "\n",
    "def save_models(m, c):\n",
    "    m.save('../models/'+ c + '_model1.h5')\n",
    "    return\n",
    "\n",
    "def tilted_loss(q,y,f):\n",
    "    e = (y-f)\n",
    "    return tf.keras.backend.mean(tf.keras.backend.maximum(q*e, (q-1)*e), axis=-1)\n",
    "\n",
    "log_dir = \"logs/scalars/\" + datetime.now().strftime(\"%Y%m%d-%H%M%S\")\n",
    "\n",
    "tb_callback = tf.keras.callbacks.TensorBoard(log_dir=log_dir)\n",
    "\n",
    "keras_model = Sequential()\n",
    "keras_model.add(Dense(units=64, input_dim=feature_size,activation='relu'))\n",
    "keras_model.add(Dense(units=64, input_dim=1,activation='relu'))\n",
    "keras_model.add(Dense(units=32, input_dim=1,activation='relu'))\n",
    "keras_model.add(Dense(num_of_generated_clusters, activation='softmax'))\n",
    "keras_model.compile(loss='categorical_crossentropy', optimizer='adam',metrics=['accuracy'])"
   ]
  },
  {
   "cell_type": "code",
   "execution_count": 134,
   "metadata": {
    "id": "HuUjv_expqkd",
    "outputId": "0bdd0199-1ccd-4bc6-c919-c4aa76de16d8"
   },
   "outputs": [
    {
     "name": "stdout",
     "output_type": "stream",
     "text": [
      "Train on 448 samples, validate on 150 samples\n",
      "Epoch 1/10\n",
      "448/448 - 1s - loss: 1.5567 - accuracy: 0.3326 - val_loss: 1.4536 - val_accuracy: 0.2067\n",
      "Epoch 2/10\n",
      "448/448 - 0s - loss: 1.3268 - accuracy: 0.6362 - val_loss: 1.2323 - val_accuracy: 0.7933\n",
      "Epoch 3/10\n",
      "448/448 - 0s - loss: 1.1199 - accuracy: 0.6116 - val_loss: 0.9920 - val_accuracy: 0.7933\n",
      "Epoch 4/10\n",
      "448/448 - 0s - loss: 0.9443 - accuracy: 0.5938 - val_loss: 0.7899 - val_accuracy: 0.7933\n",
      "Epoch 5/10\n",
      "448/448 - 0s - loss: 0.8364 - accuracy: 0.5982 - val_loss: 0.7336 - val_accuracy: 0.7933\n",
      "Epoch 6/10\n",
      "448/448 - 0s - loss: 0.7495 - accuracy: 0.7701 - val_loss: 0.5194 - val_accuracy: 0.8200\n",
      "Epoch 7/10\n",
      "448/448 - 0s - loss: 0.6772 - accuracy: 0.7321 - val_loss: 0.5683 - val_accuracy: 0.9533\n",
      "Epoch 8/10\n",
      "448/448 - 0s - loss: 0.5979 - accuracy: 0.8527 - val_loss: 0.3349 - val_accuracy: 0.9933\n",
      "Epoch 9/10\n",
      "448/448 - 0s - loss: 0.5274 - accuracy: 0.9531 - val_loss: 0.2929 - val_accuracy: 0.9933\n",
      "Epoch 10/10\n",
      "448/448 - 0s - loss: 0.4719 - accuracy: 0.9531 - val_loss: 0.2080 - val_accuracy: 0.9933\n"
     ]
    },
    {
     "data": {
      "image/png": "[encoded data removed]",
      "text/plain": [
       "<Figure size 432x288 with 1 Axes>"
      ]
     },
     "metadata": {
      "needs_background": "light"
     },
     "output_type": "display_data"
    },
    {
     "data": {
      "image/png": "[encoded data removed]",
      "text/plain": [
       "<Figure size 432x288 with 1 Axes>"
      ]
     },
     "metadata": {
      "needs_background": "light"
     },
     "output_type": "display_data"
    }
   ],
   "source": [
    "\"\"\" Fit Data for Model\"\"\"\n",
    "X = train_data_labeled.iloc[:, 0:feature_size].astype(float).values\n",
    "y = train_data_labeled['Cluster'].values\n",
    "\n",
    "\"\"\" One Hot Encode Label \"\"\"\n",
    "encoder = LabelEncoder()\n",
    "encoder.fit(y)\n",
    "encoded_y = encoder.transform(y)\n",
    "y = tf.keras.utils.to_categorical(encoded_y)\n",
    "\n",
    "history = keras_model.fit(X, y, validation_split=VALIDATION_SPLIT, epochs=EPOCHS, batch_size=BATCH_SIZE, \n",
    "                             verbose=VERBOSE, shuffle=True)\n",
    "model.save(path_of_model+'model.h5')\n",
    "print(\"Saved model to disk\")\n",
    "\n",
    "with open(path_of_model+'trainHistory', 'wb') as file_pi:\n",
    "    pickle.dump(history.history, file_pi)\n",
    "\n",
    "'''  Plot history: MSE ''' \n",
    "fig,ax = plt.subplots(1,1,figsize=(15,5))\n",
    "ax.plot(history.history['mean_squared_error'], label='MSE (training data)')\n",
    "ax.plot(history.history['val_mean_squared_error'], label='MSE (validation data)')\n",
    "ax.set_title('MSE for Predicting Future QoS Metrics')\n",
    "ax.set_ylabel('MSE')\n",
    "ax.set_xlabel('No. epoch')\n",
    "ax.legend(loc=\"upper right\")\n",
    "plt.plot(history.history['accuracy'])\n",
    "plt.plot(history.history['val_accuracy'])\n",
    "plt.title('model accuracy')\n",
    "plt.ylabel('accuracy')\n",
    "plt.xlabel('epoch')\n",
    "plt.legend(['train', 'test'], loc='upper left')\n",
    "plt.show()\n",
    "\n",
    "# summarize history for loss\n",
    "plt.plot(history.history['loss'])\n",
    "plt.plot(history.history['val_loss'])\n",
    "plt.title('model loss')\n",
    "plt.ylabel('loss')\n",
    "plt.xlabel('epoch')\n",
    "plt.legend(['train', 'test'], loc='upper left')\n",
    "plt.show()\n",
    "# # save_models(keras_model, c)\n",
    "# keras_model.predict(X)"
   ]
  },
  {
   "cell_type": "markdown",
   "metadata": {
    "id": "drerEMzwpqke"
   },
   "source": [
    "> ### <font color=Coral>4.2 Deep Neural Network Evaluation Phase </font>"
   ]
  },
  {
   "cell_type": "code",
   "execution_count": null,
   "metadata": {
    "id": "25UH_ikmpqke"
   },
   "outputs": [],
   "source": [
    "\n",
    "# clusters = kmeans.predict(x)\n",
    "\n",
    "def get_unique_numbers(numbers):\n",
    "    list_of_unique_numbers = []\n",
    "    unique_numbers = set(numbers)\n",
    "    for number in unique_numbers:\n",
    "        list_of_unique_numbers.append(number)\n",
    "    return list_of_unique_numbers\n",
    "\n",
    "# CLUSTER_SIZE = len(get_unique_numbers(kmeans.labels_))\n",
    "# print('Clusters generated:',CLUSTER_SIZE,\" - \", get_unique_numbers(kmeans.labels_))\n",
    "# print(db_model.core_sample_indices_)\n",
    "train_data_labeled['Cluster'] = pd.DataFrame({'Cluster': kmeans.labels_})\n",
    "\n",
    "\n",
    "\"\"\" Fit Data for Model\"\"\"\n",
    "X = train_data_labeled.iloc[:, 0:feature_size].astype(float).values\n",
    "Y = train_data_labeled['Cluster'].values\n",
    "\n",
    "\"\"\" One Hot Encode Label \"\"\"\n",
    "encoder = LabelEncoder()\n",
    "encoder.fit(Y)\n",
    "encoded_Y = encoder.transform(Y)\n",
    "Y = tf.keras.utils.to_categorical(encoded_Y)\n",
    "\n",
    "test_x = X\n",
    "test_y = Y\n",
    "\n",
    "res = keras_model.predict_classes(test_x)\n",
    "c = 0\n",
    "acc = 0\n",
    "for i in test_y:\n",
    "    if np.argmax(i) == res[c]:\n",
    "        acc += 1\n",
    "    c +=1\n",
    "\n",
    "print(\"Accuracy\",(acc/test_y.shape[0])*100, \"%\")"
   ]
  }
 ],
 "metadata": {
  "colab": {
   "name": "clustering.ipynb",
   "provenance": []
  },
  "kernelspec": {
   "display_name": "Python 3",
   "language": "python",
   "name": "python3"
  },
  "language_info": {
   "codemirror_mode": {
    "name": "ipython",
    "version": 3
   },
   "file_extension": ".py",
   "mimetype": "text/x-python",
   "name": "python",
   "nbconvert_exporter": "python",
   "pygments_lexer": "ipython3",
   "version": "3.7.6"
  }
 },
 "nbformat": 4,
 "nbformat_minor": 1
}
