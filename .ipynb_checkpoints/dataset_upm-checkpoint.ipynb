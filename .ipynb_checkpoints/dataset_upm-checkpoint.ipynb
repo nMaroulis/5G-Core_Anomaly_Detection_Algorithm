{
 "cells": [
  {
   "cell_type": "code",
   "execution_count": 12,
   "metadata": {
    "colab": {
     "base_uri": "https://localhost:8080/",
     "height": 51
    },
    "executionInfo": {
     "elapsed": 1020,
     "status": "ok",
     "timestamp": 1621950177789,
     "user": {
      "displayName": "Nikos Marοulis",
      "photoUrl": "https://lh3.googleusercontent.com/a-/AOh14Gg-MZSaNZpv2rRSyDZK0284LZjMlytkj7o2mmYQEw=s64",
      "userId": "11343116519793443171"
     },
     "user_tz": -180
    },
    "id": "FQSKFkLZvQzR",
    "outputId": "4ebaf781-0e42-4f57-c812-6f70db273432"
   },
   "outputs": [
    {
     "name": "stdout",
     "output_type": "stream",
     "text": [
      "Tensorflow Version - 2.4.1\n"
     ]
    },
    {
     "data": {
      "text/plain": [
       "<Figure size 1152x648 with 0 Axes>"
      ]
     },
     "metadata": {
      "tags": []
     },
     "output_type": "display_data"
    }
   ],
   "source": [
    "import pandas as pd\n",
    "import numpy as np\n",
    "import matplotlib\n",
    "import matplotlib.pyplot as plt\n",
    "import seaborn as sns\n",
    "import matplotlib.cm as cm\n",
    "from sklearn.ensemble import IsolationForest, RandomForestClassifier\n",
    "from sklearn.decomposition import PCA\n",
    "from sklearn.cluster import KMeans\n",
    "from sklearn.preprocessing import MinMaxScaler, StandardScaler, normalize, LabelEncoder\n",
    "from sklearn.manifold import TSNE\n",
    "from sklearn.cluster import DBSCAN\n",
    "from collections import Counter\n",
    "from sklearn.metrics import silhouette_samples, silhouette_score\n",
    "from sklearn import tree\n",
    "import os\n",
    "import tensorflow as tf\n",
    "from sklearn.exceptions import DataConversionWarning\n",
    "from joblib import dump, load\n",
    "from datetime import datetime\n",
    "\n",
    "CLUSTER_SIZE = 3\n",
    "FEATURE_SIZE = 0\n",
    "\n",
    "\n",
    "data_simulation_1 = pd.read_csv(\"../0. Input Data/Simulation_Data_1.csv\")\n",
    "# df1 = pd.read_csv(\"/content/drive/MyDrive/Documents/Work/Scanlab/5G Growth/Anomaly_Detection-master-097d82ce33905b228aa97e72007ca7e3492b5a32/dataset/ad_dataset.csv\")"
   ]
  },
  {
   "cell_type": "code",
   "execution_count": 23,
   "metadata": {
    "colab": {
     "base_uri": "https://localhost:8080/",
     "height": 419
    },
    "executionInfo": {
     "elapsed": 183,
     "status": "ok",
     "timestamp": 1621950919576,
     "user": {
      "displayName": "Nikos Marοulis",
      "photoUrl": "https://lh3.googleusercontent.com/a-/AOh14Gg-MZSaNZpv2rRSyDZK0284LZjMlytkj7o2mmYQEw=s64",
      "userId": "11343116519793443171"
     },
     "user_tz": -180
    },
    "id": "ZI0WhLChvlKN",
    "outputId": "c49efb65-3cdc-48c4-c2b9-7f9972850e6f"
   },
   "outputs": [
    {
     "data": {
      "text/html": [
       "<div>\n",
       "<style scoped>\n",
       "    .dataframe tbody tr th:only-of-type {\n",
       "        vertical-align: middle;\n",
       "    }\n",
       "\n",
       "    .dataframe tbody tr th {\n",
       "        vertical-align: top;\n",
       "    }\n",
       "\n",
       "    .dataframe thead th {\n",
       "        text-align: right;\n",
       "    }\n",
       "</style>\n",
       "<table border=\"1\" class=\"dataframe\">\n",
       "  <thead>\n",
       "    <tr style=\"text-align: right;\">\n",
       "      <th></th>\n",
       "      <th>ul_delay</th>\n",
       "      <th>dl_delay</th>\n",
       "      <th>lost_packets</th>\n",
       "      <th>rsrp</th>\n",
       "      <th>ulrx_cell</th>\n",
       "      <th>transfer_protocol</th>\n",
       "      <th>cell_id</th>\n",
       "    </tr>\n",
       "  </thead>\n",
       "  <tbody>\n",
       "    <tr>\n",
       "      <th>0</th>\n",
       "      <td>0.005988</td>\n",
       "      <td>0.003536</td>\n",
       "      <td>2</td>\n",
       "      <td>-81.5549</td>\n",
       "      <td>408530</td>\n",
       "      <td>1</td>\n",
       "      <td>0</td>\n",
       "    </tr>\n",
       "    <tr>\n",
       "      <th>1</th>\n",
       "      <td>0.005791</td>\n",
       "      <td>0.004051</td>\n",
       "      <td>2</td>\n",
       "      <td>-81.5014</td>\n",
       "      <td>421562</td>\n",
       "      <td>1</td>\n",
       "      <td>0</td>\n",
       "    </tr>\n",
       "    <tr>\n",
       "      <th>2</th>\n",
       "      <td>0.005923</td>\n",
       "      <td>0.003896</td>\n",
       "      <td>-2</td>\n",
       "      <td>-81.4492</td>\n",
       "      <td>409914</td>\n",
       "      <td>1</td>\n",
       "      <td>0</td>\n",
       "    </tr>\n",
       "    <tr>\n",
       "      <th>3</th>\n",
       "      <td>0.005786</td>\n",
       "      <td>0.003993</td>\n",
       "      <td>1</td>\n",
       "      <td>-81.3982</td>\n",
       "      <td>424570</td>\n",
       "      <td>1</td>\n",
       "      <td>0</td>\n",
       "    </tr>\n",
       "    <tr>\n",
       "      <th>4</th>\n",
       "      <td>0.005920</td>\n",
       "      <td>0.003896</td>\n",
       "      <td>-1</td>\n",
       "      <td>-81.3485</td>\n",
       "      <td>409860</td>\n",
       "      <td>1</td>\n",
       "      <td>0</td>\n",
       "    </tr>\n",
       "    <tr>\n",
       "      <th>...</th>\n",
       "      <td>...</td>\n",
       "      <td>...</td>\n",
       "      <td>...</td>\n",
       "      <td>...</td>\n",
       "      <td>...</td>\n",
       "      <td>...</td>\n",
       "      <td>...</td>\n",
       "    </tr>\n",
       "    <tr>\n",
       "      <th>593</th>\n",
       "      <td>0.040226</td>\n",
       "      <td>0.003302</td>\n",
       "      <td>111</td>\n",
       "      <td>-85.7785</td>\n",
       "      <td>273580</td>\n",
       "      <td>1</td>\n",
       "      <td>0</td>\n",
       "    </tr>\n",
       "    <tr>\n",
       "      <th>594</th>\n",
       "      <td>0.040207</td>\n",
       "      <td>0.004000</td>\n",
       "      <td>111</td>\n",
       "      <td>-85.7412</td>\n",
       "      <td>274290</td>\n",
       "      <td>1</td>\n",
       "      <td>0</td>\n",
       "    </tr>\n",
       "    <tr>\n",
       "      <th>595</th>\n",
       "      <td>0.040181</td>\n",
       "      <td>0.003302</td>\n",
       "      <td>110</td>\n",
       "      <td>-85.7046</td>\n",
       "      <td>274810</td>\n",
       "      <td>1</td>\n",
       "      <td>0</td>\n",
       "    </tr>\n",
       "    <tr>\n",
       "      <th>596</th>\n",
       "      <td>0.040256</td>\n",
       "      <td>0.003535</td>\n",
       "      <td>110</td>\n",
       "      <td>-85.6686</td>\n",
       "      <td>274290</td>\n",
       "      <td>1</td>\n",
       "      <td>0</td>\n",
       "    </tr>\n",
       "    <tr>\n",
       "      <th>597</th>\n",
       "      <td>0.040212</td>\n",
       "      <td>0.003303</td>\n",
       "      <td>111</td>\n",
       "      <td>-85.6334</td>\n",
       "      <td>274810</td>\n",
       "      <td>1</td>\n",
       "      <td>0</td>\n",
       "    </tr>\n",
       "  </tbody>\n",
       "</table>\n",
       "<p>598 rows × 7 columns</p>\n",
       "</div>"
      ],
      "text/plain": [
       "     ul_delay  dl_delay  lost_packets  ...  ulrx_cell  transfer_protocol  cell_id\n",
       "0    0.005988  0.003536             2  ...     408530                  1        0\n",
       "1    0.005791  0.004051             2  ...     421562                  1        0\n",
       "2    0.005923  0.003896            -2  ...     409914                  1        0\n",
       "3    0.005786  0.003993             1  ...     424570                  1        0\n",
       "4    0.005920  0.003896            -1  ...     409860                  1        0\n",
       "..        ...       ...           ...  ...        ...                ...      ...\n",
       "593  0.040226  0.003302           111  ...     273580                  1        0\n",
       "594  0.040207  0.004000           111  ...     274290                  1        0\n",
       "595  0.040181  0.003302           110  ...     274810                  1        0\n",
       "596  0.040256  0.003535           110  ...     274290                  1        0\n",
       "597  0.040212  0.003303           111  ...     274810                  1        0\n",
       "\n",
       "[598 rows x 7 columns]"
      ]
     },
     "execution_count": 23,
     "metadata": {
      "tags": []
     },
     "output_type": "execute_result"
    }
   ],
   "source": [
    "df1['cell_id'] = df2['cellid']\n",
    "df1"
   ]
  },
  {
   "cell_type": "code",
   "execution_count": 28,
   "metadata": {
    "colab": {
     "base_uri": "https://localhost:8080/"
    },
    "executionInfo": {
     "elapsed": 181,
     "status": "ok",
     "timestamp": 1621950982567,
     "user": {
      "displayName": "Nikos Marοulis",
      "photoUrl": "https://lh3.googleusercontent.com/a-/AOh14Gg-MZSaNZpv2rRSyDZK0284LZjMlytkj7o2mmYQEw=s64",
      "userId": "11343116519793443171"
     },
     "user_tz": -180
    },
    "id": "bqQLHFj9xUme",
    "outputId": "c1dffb82-44b4-4383-a459-562966297b76"
   },
   "outputs": [
    {
     "name": "stdout",
     "output_type": "stream",
     "text": [
      "598\n"
     ]
    }
   ],
   "source": [
    "#df1['timestamp']\n",
    "\n",
    "\n",
    "# 2021-05-19 16:14:00\n",
    "\n",
    "a1 = []\n",
    "for i in range(0,60):\n",
    "  if i < 10:\n",
    "    a1.append('2021-05-19 16:14:0' + str(i))\n",
    "  else:\n",
    "    a1.append('2021-05-19 16:14:' + str(i))\n",
    "a2 = []\n",
    "for i in range(0,60):\n",
    "  if i < 10:\n",
    "    a2.append('2021-05-19 16:15:0' + str(i))\n",
    "  else:\n",
    "    a2.append('2021-05-19 16:15:' + str(i))\n",
    "a3 = []\n",
    "for i in range(0,60):\n",
    "  if i < 10:\n",
    "    a3.append('2021-05-19 16:16:0' + str(i))\n",
    "  else:\n",
    "    a3.append('2021-05-19 16:16:' + str(i))\n",
    "a4 = []\n",
    "for i in range(0,60):\n",
    "  if i < 10:\n",
    "    a4.append('2021-05-19 16:17:0' + str(i))\n",
    "  else:\n",
    "    a4.append('2021-05-19 16:17:' + str(i))\n",
    "a5 = []\n",
    "for i in range(0,60):\n",
    "  if i < 10:\n",
    "    a5.append('2021-05-19 16:18:0' + str(i))\n",
    "  else:\n",
    "    a5.append('2021-05-19 16:18:' + str(i))\n",
    "a6 = []\n",
    "for i in range(0,60):\n",
    "  if i < 10:\n",
    "    a6.append('2021-05-19 16:19:0' + str(i))\n",
    "  else:\n",
    "    a6.append('2021-05-19 16:19:' + str(i))\n",
    "a7 = []\n",
    "for i in range(0,60):\n",
    "  if i < 10:\n",
    "    a7.append('2021-05-19 16:20:0' + str(i))\n",
    "  else:\n",
    "    a7.append('2021-05-19 16:20:' + str(i))\n",
    "a8 = []\n",
    "for i in range(0,60):\n",
    "  if i < 10:\n",
    "    a8.append('2021-05-19 16:21:0' + str(i))\n",
    "  else:\n",
    "    a8.append('2021-05-19 16:21:' + str(i))\n",
    "a9 = []\n",
    "for i in range(0,60):\n",
    "  if i < 10:\n",
    "    a9.append('2021-05-19 16:22:0' + str(i))\n",
    "  else:\n",
    "    a9.append('2021-05-19 16:22:' + str(i))\n",
    "a10 = []\n",
    "for i in range(0,58):\n",
    "  if i < 10:\n",
    "    a10.append('2021-05-19 16:23:0' + str(i))\n",
    "  else:\n",
    "    a10.append('2021-05-19 16:23:' + str(i))\n",
    "\n",
    "aa = a1+a2+a3+a4+a5+a6+a7+a8+a9+a10\n",
    "print(len(aa))"
   ]
  },
  {
   "cell_type": "code",
   "execution_count": 30,
   "metadata": {
    "executionInfo": {
     "elapsed": 204,
     "status": "ok",
     "timestamp": 1621951005055,
     "user": {
      "displayName": "Nikos Marοulis",
      "photoUrl": "https://lh3.googleusercontent.com/a-/AOh14Gg-MZSaNZpv2rRSyDZK0284LZjMlytkj7o2mmYQEw=s64",
      "userId": "11343116519793443171"
     },
     "user_tz": -180
    },
    "id": "yy6xQ3nWy0D0"
   },
   "outputs": [],
   "source": [
    "df1['timestamp'] = aa"
   ]
  },
  {
   "cell_type": "code",
   "execution_count": 34,
   "metadata": {
    "executionInfo": {
     "elapsed": 166,
     "status": "ok",
     "timestamp": 1621951690951,
     "user": {
      "displayName": "Nikos Marοulis",
      "photoUrl": "https://lh3.googleusercontent.com/a-/AOh14Gg-MZSaNZpv2rRSyDZK0284LZjMlytkj7o2mmYQEw=s64",
      "userId": "11343116519793443171"
     },
     "user_tz": -180
    },
    "id": "6tdd9pwy0D8W"
   },
   "outputs": [],
   "source": [
    "#df1\n",
    "\n",
    "#df = df1[[\"timestamp\", \"ul_delay\",\t\"dl_delay\",\t\"lost_packets\"\t,\"rsrp\",\t\"ulrx_cell\"\t,\"transfer_protocol\",\t\"cell_id\"]]\n",
    "df.to_csv('/content/drive/MyDrive/Documents/Work/Scanlab/5G Growth/Anomaly_Detection-master-097d82ce33905b228aa97e72007ca7e3492b5a32/dataset/ad_dataset_new.csv', index=False, sep=',')"
   ]
  }
 ],
 "metadata": {
  "colab": {
   "authorship_tag": "ABX9TyMJATT16wAQSec42SVPmFrU",
   "collapsed_sections": [],
   "mount_file_id": "12XMlY-Js6bOWo4wskhWu6Be8e1-ak2iZ",
   "name": "dataset_upm.ipynb",
   "provenance": []
  },
  "kernelspec": {
   "display_name": "Python 3",
   "language": "python",
   "name": "python3"
  },
  "language_info": {
   "codemirror_mode": {
    "name": "ipython",
    "version": 3
   },
   "file_extension": ".py",
   "mimetype": "text/x-python",
   "name": "python",
   "nbconvert_exporter": "python",
   "pygments_lexer": "ipython3",
   "version": "3.7.6"
  }
 },
 "nbformat": 4,
 "nbformat_minor": 1
}
